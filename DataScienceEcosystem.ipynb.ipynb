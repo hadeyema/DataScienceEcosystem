{
 "cells": [
  {
   "cell_type": "markdown",
   "id": "06b6b023-5485-4a8f-af1c-0dcb012747ad",
   "metadata": {},
   "source": [
    "# Data Science Tools and Ecosystem"
   ]
  },
  {
   "cell_type": "markdown",
   "id": "07f6c9bf-babb-4aee-a0ea-9482e61876f5",
   "metadata": {},
   "source": [
    "#### In this notebook, Data Science Tools and Ecosystem are summarized,"
   ]
  },
  {
   "cell_type": "markdown",
   "id": "25e65255-6cfa-4c70-bbfc-634fbb87135e",
   "metadata": {},
   "source": [
    "Objectives:\n",
    "* List of some Data science libraries\n",
    "* List of some Data science languages\n",
    "* Examples of arithmetic expression\n",
    "* Markdown using in jupyter notebook "
   ]
  },
  {
   "cell_type": "markdown",
   "id": "29f35eef-2679-4aa2-99c0-17d651ddf0ae",
   "metadata": {},
   "source": [
    "##### Some of the popular languages that Data Scientists use are:\n",
    "1. Python\n",
    "2. R\n",
    "3. Scala\n"
   ]
  },
  {
   "cell_type": "markdown",
   "id": "8b71144d-a546-4d0b-b883-b9a6871b778b",
   "metadata": {},
   "source": [
    "##### Some of the commonly used libraries used by Data Scientists include:\n",
    "- Panda\n",
    "- Numpy\n",
    "- Scykit learn"
   ]
  },
  {
   "cell_type": "markdown",
   "id": "b028a342-7a65-466c-b7fa-817c9b0bbe24",
   "metadata": {},
   "source": [
    "\n",
    "| Data Science Tools |\n",
    "| -------------|\n",
    "| RStudio |\n",
    "| Jupyter notebook |\n",
    "| VS Code|"
   ]
  },
  {
   "cell_type": "markdown",
   "id": "deb24d37-696b-4174-a6ae-446a17983c1a",
   "metadata": {},
   "source": [
    "### Below are a few examples of evaluating arithmetic expressions in Python"
   ]
  },
  {
   "cell_type": "code",
   "execution_count": 2,
   "id": "364a8ea1-59bd-4560-864a-6d080e2e1c73",
   "metadata": {
    "tags": []
   },
   "outputs": [
    {
     "data": {
      "text/plain": [
       "17"
      ]
     },
     "execution_count": 2,
     "metadata": {},
     "output_type": "execute_result"
    }
   ],
   "source": [
    "#This a simple arithmetic expression to mutiply then add integers\n",
    "(3*4)+5"
   ]
  },
  {
   "cell_type": "code",
   "execution_count": 3,
   "id": "ad6fd165-5ba1-4d66-8e93-b7e774c7b506",
   "metadata": {
    "tags": []
   },
   "outputs": [
    {
     "data": {
      "text/plain": [
       "3.3333333333333335"
      ]
     },
     "execution_count": 3,
     "metadata": {},
     "output_type": "execute_result"
    }
   ],
   "source": [
    "#This will convert 200 minutes to hours by diving by 60\n",
    "200/60"
   ]
  },
  {
   "cell_type": "markdown",
   "id": "0b10704f-f801-447c-88b8-31206d41a9ee",
   "metadata": {},
   "source": [
    "## Author\n",
    "#### MAIGA Hadeye"
   ]
  },
  {
   "cell_type": "code",
   "execution_count": null,
   "id": "3facfaba-e681-42ac-8427-4980fd7ea93c",
   "metadata": {},
   "outputs": [],
   "source": []
  }
 ],
 "metadata": {
  "kernelspec": {
   "display_name": "Python",
   "language": "python",
   "name": "conda-env-python-py"
  },
  "language_info": {
   "codemirror_mode": {
    "name": "ipython",
    "version": 3
   },
   "file_extension": ".py",
   "mimetype": "text/x-python",
   "name": "python",
   "nbconvert_exporter": "python",
   "pygments_lexer": "ipython3",
   "version": "3.7.12"
  }
 },
 "nbformat": 4,
 "nbformat_minor": 5
}
